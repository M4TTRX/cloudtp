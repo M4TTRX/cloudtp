{
 "cells": [
  {
   "cell_type": "markdown",
   "metadata": {},
   "source": [
    "# Cloud Computing for Distributed Big Data Applications - Practical Session 2\n",
    "\n",
    "As you are all aware, Big Data and Cloud Computing are two distinct ideas, but the two\n",
    "concepts are often crossed intricately together. Big Data refers to gigantic amounts of data\n",
    "that can be structured, semi-structured or unstructured. \n",
    "\n",
    "It is usually collected from different\n",
    "sources (eg., user input, sensors, sales data ..) for analytical purposes. The two main purposes\n",
    "of collecting this data is to i) find relevant patterns that can be exploited later (eg., to build\n",
    "statistical models) and ii) to process it in order to address some query. \n",
    "\n",
    "Your challenge today\n",
    "(if you accept it :) ) is to dive deep into the data story-telling of one of two datasets that you\n",
    "can download and choose from moodle."
   ]
  },
  {
   "cell_type": "markdown",
   "metadata": {},
   "source": [
    "## 1. Datasets\n",
    "\n",
    "## 1.1 Global Warming Trends\n",
    "\n",
    "This dataset by data science nonprofit Berkeley Earth reports on how land and\n",
    "temperature vary by city (the bigger file) and by average on the planet. This\n",
    "data is (mostly) already cleaned. The idea here is to dive deeper into global\n",
    "surface temperature anomalies through your analysis. While doing so, please\n",
    "document the different queries/ processing steps you thought of as well as the\n",
    "results and observations that came out of those. You will be asked to return\n",
    "them at the end of the course.\n",
    "\n",
    "As a start you could run a sanity check (eg., unicity of the couple (country,\n",
    "city) at a specific day, correspondence of the coordinates with the specified\n",
    "city and country (to this end, you can use libraries like geopy), arbitrary\n",
    "temperatures values), and anything relevant that comes to your mind."
   ]
  },
  {
   "cell_type": "code",
   "execution_count": 1,
   "metadata": {},
   "outputs": [],
   "source": [
    "import pandas as pd"
   ]
  },
  {
   "cell_type": "code",
   "execution_count": null,
   "metadata": {},
   "outputs": [],
   "source": []
  }
 ],
 "metadata": {
  "kernelspec": {
   "display_name": "Python 3.9.6 ('env': venv)",
   "language": "python",
   "name": "python3"
  },
  "language_info": {
   "codemirror_mode": {
    "name": "ipython",
    "version": 3
   },
   "file_extension": ".py",
   "mimetype": "text/x-python",
   "name": "python",
   "nbconvert_exporter": "python",
   "pygments_lexer": "ipython3",
   "version": "3.9.6"
  },
  "orig_nbformat": 4,
  "vscode": {
   "interpreter": {
    "hash": "fc8697ad9d1dd583448d4b4a11ac706f18005c9f2da7504208becfeae8236a6a"
   }
  }
 },
 "nbformat": 4,
 "nbformat_minor": 2
}
